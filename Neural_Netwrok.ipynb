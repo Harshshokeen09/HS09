{
  "nbformat": 4,
  "nbformat_minor": 0,
  "metadata": {
    "colab": {
      "provenance": [],
      "toc_visible": true,
      "authorship_tag": "ABX9TyMvMU51I9YprG0nCpSU8tv3",
      "include_colab_link": true
    },
    "kernelspec": {
      "name": "python3",
      "display_name": "Python 3"
    },
    "language_info": {
      "name": "python"
    }
  },
  "cells": [
    {
      "cell_type": "markdown",
      "metadata": {
        "id": "view-in-github",
        "colab_type": "text"
      },
      "source": [
        "<a href=\"https://colab.research.google.com/github/Harshshokeen09/HS09/blob/main/Neural_Netwrok.ipynb\" target=\"_parent\"><img src=\"https://colab.research.google.com/assets/colab-badge.svg\" alt=\"Open In Colab\"/></a>"
      ]
    },
    {
      "cell_type": "code",
      "execution_count": 28,
      "metadata": {
        "id": "rkNPqR4BtGbU"
      },
      "outputs": [],
      "source": [
        "import pandas as pd\n",
        "import numpy as np\n",
        "from sklearn.model_selection import train_test_split\n",
        "from sklearn.preprocessing import StandardScaler\n",
        "from sklearn.linear_model import LogisticRegression\n",
        "from sklearn.metrics import accuracy_score\n",
        "from google.colab import files\n",
        "import datetime"
      ]
    },
    {
      "cell_type": "markdown",
      "source": [
        "DATA SET IS UPLOADED HERE FROM LOCAL DRIVE, YOU CAN ACCESS IT AS WELL UNDER THE NAME OF DATA.xlsx"
      ],
      "metadata": {
        "id": "cseuB93w3kqc"
      }
    },
    {
      "cell_type": "code",
      "source": [
        "uploaded = files.upload()\n"
      ],
      "metadata": {
        "colab": {
          "base_uri": "https://localhost:8080/",
          "height": 74
        },
        "id": "I8bxzLq9tWlc",
        "outputId": "c4db9ab9-0c3e-4e7c-debd-2c3e878c3693"
      },
      "execution_count": 4,
      "outputs": [
        {
          "output_type": "display_data",
          "data": {
            "text/plain": [
              "<IPython.core.display.HTML object>"
            ],
            "text/html": [
              "\n",
              "     <input type=\"file\" id=\"files-06f70a76-ca5c-43b6-bcef-deeac69caf4d\" name=\"files[]\" multiple disabled\n",
              "        style=\"border:none\" />\n",
              "     <output id=\"result-06f70a76-ca5c-43b6-bcef-deeac69caf4d\">\n",
              "      Upload widget is only available when the cell has been executed in the\n",
              "      current browser session. Please rerun this cell to enable.\n",
              "      </output>\n",
              "      <script>// Copyright 2017 Google LLC\n",
              "//\n",
              "// Licensed under the Apache License, Version 2.0 (the \"License\");\n",
              "// you may not use this file except in compliance with the License.\n",
              "// You may obtain a copy of the License at\n",
              "//\n",
              "//      http://www.apache.org/licenses/LICENSE-2.0\n",
              "//\n",
              "// Unless required by applicable law or agreed to in writing, software\n",
              "// distributed under the License is distributed on an \"AS IS\" BASIS,\n",
              "// WITHOUT WARRANTIES OR CONDITIONS OF ANY KIND, either express or implied.\n",
              "// See the License for the specific language governing permissions and\n",
              "// limitations under the License.\n",
              "\n",
              "/**\n",
              " * @fileoverview Helpers for google.colab Python module.\n",
              " */\n",
              "(function(scope) {\n",
              "function span(text, styleAttributes = {}) {\n",
              "  const element = document.createElement('span');\n",
              "  element.textContent = text;\n",
              "  for (const key of Object.keys(styleAttributes)) {\n",
              "    element.style[key] = styleAttributes[key];\n",
              "  }\n",
              "  return element;\n",
              "}\n",
              "\n",
              "// Max number of bytes which will be uploaded at a time.\n",
              "const MAX_PAYLOAD_SIZE = 100 * 1024;\n",
              "\n",
              "function _uploadFiles(inputId, outputId) {\n",
              "  const steps = uploadFilesStep(inputId, outputId);\n",
              "  const outputElement = document.getElementById(outputId);\n",
              "  // Cache steps on the outputElement to make it available for the next call\n",
              "  // to uploadFilesContinue from Python.\n",
              "  outputElement.steps = steps;\n",
              "\n",
              "  return _uploadFilesContinue(outputId);\n",
              "}\n",
              "\n",
              "// This is roughly an async generator (not supported in the browser yet),\n",
              "// where there are multiple asynchronous steps and the Python side is going\n",
              "// to poll for completion of each step.\n",
              "// This uses a Promise to block the python side on completion of each step,\n",
              "// then passes the result of the previous step as the input to the next step.\n",
              "function _uploadFilesContinue(outputId) {\n",
              "  const outputElement = document.getElementById(outputId);\n",
              "  const steps = outputElement.steps;\n",
              "\n",
              "  const next = steps.next(outputElement.lastPromiseValue);\n",
              "  return Promise.resolve(next.value.promise).then((value) => {\n",
              "    // Cache the last promise value to make it available to the next\n",
              "    // step of the generator.\n",
              "    outputElement.lastPromiseValue = value;\n",
              "    return next.value.response;\n",
              "  });\n",
              "}\n",
              "\n",
              "/**\n",
              " * Generator function which is called between each async step of the upload\n",
              " * process.\n",
              " * @param {string} inputId Element ID of the input file picker element.\n",
              " * @param {string} outputId Element ID of the output display.\n",
              " * @return {!Iterable<!Object>} Iterable of next steps.\n",
              " */\n",
              "function* uploadFilesStep(inputId, outputId) {\n",
              "  const inputElement = document.getElementById(inputId);\n",
              "  inputElement.disabled = false;\n",
              "\n",
              "  const outputElement = document.getElementById(outputId);\n",
              "  outputElement.innerHTML = '';\n",
              "\n",
              "  const pickedPromise = new Promise((resolve) => {\n",
              "    inputElement.addEventListener('change', (e) => {\n",
              "      resolve(e.target.files);\n",
              "    });\n",
              "  });\n",
              "\n",
              "  const cancel = document.createElement('button');\n",
              "  inputElement.parentElement.appendChild(cancel);\n",
              "  cancel.textContent = 'Cancel upload';\n",
              "  const cancelPromise = new Promise((resolve) => {\n",
              "    cancel.onclick = () => {\n",
              "      resolve(null);\n",
              "    };\n",
              "  });\n",
              "\n",
              "  // Wait for the user to pick the files.\n",
              "  const files = yield {\n",
              "    promise: Promise.race([pickedPromise, cancelPromise]),\n",
              "    response: {\n",
              "      action: 'starting',\n",
              "    }\n",
              "  };\n",
              "\n",
              "  cancel.remove();\n",
              "\n",
              "  // Disable the input element since further picks are not allowed.\n",
              "  inputElement.disabled = true;\n",
              "\n",
              "  if (!files) {\n",
              "    return {\n",
              "      response: {\n",
              "        action: 'complete',\n",
              "      }\n",
              "    };\n",
              "  }\n",
              "\n",
              "  for (const file of files) {\n",
              "    const li = document.createElement('li');\n",
              "    li.append(span(file.name, {fontWeight: 'bold'}));\n",
              "    li.append(span(\n",
              "        `(${file.type || 'n/a'}) - ${file.size} bytes, ` +\n",
              "        `last modified: ${\n",
              "            file.lastModifiedDate ? file.lastModifiedDate.toLocaleDateString() :\n",
              "                                    'n/a'} - `));\n",
              "    const percent = span('0% done');\n",
              "    li.appendChild(percent);\n",
              "\n",
              "    outputElement.appendChild(li);\n",
              "\n",
              "    const fileDataPromise = new Promise((resolve) => {\n",
              "      const reader = new FileReader();\n",
              "      reader.onload = (e) => {\n",
              "        resolve(e.target.result);\n",
              "      };\n",
              "      reader.readAsArrayBuffer(file);\n",
              "    });\n",
              "    // Wait for the data to be ready.\n",
              "    let fileData = yield {\n",
              "      promise: fileDataPromise,\n",
              "      response: {\n",
              "        action: 'continue',\n",
              "      }\n",
              "    };\n",
              "\n",
              "    // Use a chunked sending to avoid message size limits. See b/62115660.\n",
              "    let position = 0;\n",
              "    do {\n",
              "      const length = Math.min(fileData.byteLength - position, MAX_PAYLOAD_SIZE);\n",
              "      const chunk = new Uint8Array(fileData, position, length);\n",
              "      position += length;\n",
              "\n",
              "      const base64 = btoa(String.fromCharCode.apply(null, chunk));\n",
              "      yield {\n",
              "        response: {\n",
              "          action: 'append',\n",
              "          file: file.name,\n",
              "          data: base64,\n",
              "        },\n",
              "      };\n",
              "\n",
              "      let percentDone = fileData.byteLength === 0 ?\n",
              "          100 :\n",
              "          Math.round((position / fileData.byteLength) * 100);\n",
              "      percent.textContent = `${percentDone}% done`;\n",
              "\n",
              "    } while (position < fileData.byteLength);\n",
              "  }\n",
              "\n",
              "  // All done.\n",
              "  yield {\n",
              "    response: {\n",
              "      action: 'complete',\n",
              "    }\n",
              "  };\n",
              "}\n",
              "\n",
              "scope.google = scope.google || {};\n",
              "scope.google.colab = scope.google.colab || {};\n",
              "scope.google.colab._files = {\n",
              "  _uploadFiles,\n",
              "  _uploadFilesContinue,\n",
              "};\n",
              "})(self);\n",
              "</script> "
            ]
          },
          "metadata": {}
        },
        {
          "output_type": "stream",
          "name": "stdout",
          "text": [
            "Saving Data Set.xlsx to Data Set.xlsx\n"
          ]
        }
      ]
    },
    {
      "cell_type": "code",
      "source": [
        "df = pd.read_excel('Data.xlsx')"
      ],
      "metadata": {
        "id": "o2isnCmYtWwU"
      },
      "execution_count": 35,
      "outputs": []
    },
    {
      "cell_type": "markdown",
      "source": [
        "**QUESTION 1: Check which all customers did not pay on time.**\n",
        "\n"
      ],
      "metadata": {
        "id": "N6qxT163zpnY"
      }
    },
    {
      "cell_type": "code",
      "source": [
        "def is_payment_overdue(expiration_date):\n",
        "    current_date = datetime.datetime.now()\n",
        "    exp_date = datetime.datetime.strptime(expiration_date, \"%m/%y\")\n",
        "    return current_date > exp_date\n"
      ],
      "metadata": {
        "id": "WfHSI3R-ySfm"
      },
      "execution_count": 37,
      "outputs": []
    },
    {
      "cell_type": "code",
      "source": [
        "def is_payment_overdue(expiration_date):\n",
        "    current_date = datetime.datetime.now().date()\n",
        "    try:\n",
        "        expiration_date_str = expiration_date.strftime('%m/%Y')  # Convert Timestamp to string\n",
        "        expiration_date = datetime.datetime.strptime(expiration_date_str, '%m/%Y').date()\n",
        "        if expiration_date < current_date:\n",
        "            return True\n",
        "        else:\n",
        "            return False\n",
        "    except ValueError:\n",
        "        return False"
      ],
      "metadata": {
        "id": "dTAQUFtxydnQ"
      },
      "execution_count": 46,
      "outputs": []
    },
    {
      "cell_type": "code",
      "source": [
        "overdue_customers = []\n",
        "for _, customer in df.iterrows():\n",
        "    if is_payment_overdue(customer['Expiration Date']) and customer['Balance'] > 0:\n",
        "        overdue_customers.append(customer['Cardholder Name'])\n",
        "\n",
        "# Print the list of customers who didn't pay on time\n",
        "if overdue_customers:\n",
        "    print(\"Customers who didn't pay on time:\")\n",
        "    for customer in overdue_customers:\n",
        "        print(customer)\n",
        "else:\n",
        "    print(\"All customers paid on time.\")"
      ],
      "metadata": {
        "colab": {
          "base_uri": "https://localhost:8080/",
          "height": 0
        },
        "id": "0DS1Vy0SzW4n",
        "outputId": "e2b760b1-e244-4c15-842e-492a3967ae93"
      },
      "execution_count": 47,
      "outputs": [
        {
          "output_type": "stream",
          "name": "stdout",
          "text": [
            "Customers who didn't pay on time:\n",
            "Chloe Hill\n",
            "Emma Davis\n",
            "Ethan Taylor\n",
            "Evelyn Davis\n",
            "Jessica Anderson\n",
            "Mason Harris\n",
            "Mila Turner\n",
            "Penelope Rodriguez\n",
            "Samantha Reed\n"
          ]
        }
      ]
    },
    {
      "cell_type": "markdown",
      "source": [
        "X- - - - - -**QUESTION 1 ENDS HERE** - - - - - - -X"
      ],
      "metadata": {
        "id": "KjXlFMBRzdFF"
      }
    },
    {
      "cell_type": "markdown",
      "source": [
        "**QUESTION 2: Past 5 years how many customers were there who returned their credit card due to exceeded payment?**"
      ],
      "metadata": {
        "id": "8IchZrp2z1Xi"
      }
    },
    {
      "cell_type": "code",
      "source": [
        "df = pd.read_excel('Data.xlsx')"
      ],
      "metadata": {
        "id": "TG1WumrUzyAR"
      },
      "execution_count": 48,
      "outputs": []
    },
    {
      "cell_type": "code",
      "source": [
        "current_year = datetime.datetime.now().year\n",
        "starting_year = current_year - 5"
      ],
      "metadata": {
        "id": "BJaietpG0mmP"
      },
      "execution_count": 55,
      "outputs": []
    },
    {
      "cell_type": "code",
      "source": [
        "returned_customers = [customer[0] for customer in df if customer[6] == \"Yes\" and int(customer[2][-2:]) >= starting_year]"
      ],
      "metadata": {
        "id": "bd6pY6mQ0rR8"
      },
      "execution_count": 52,
      "outputs": []
    },
    {
      "cell_type": "code",
      "source": [
        "num_returned_customers = len(returned_customers)"
      ],
      "metadata": {
        "id": "jTVJrcwb0rUR"
      },
      "execution_count": 53,
      "outputs": []
    },
    {
      "cell_type": "code",
      "source": [
        "print(\"Number of customers who returned their credit cards due to exceeded payment in the past five years:\", num_returned_customers)"
      ],
      "metadata": {
        "colab": {
          "base_uri": "https://localhost:8080/",
          "height": 0
        },
        "id": "TFFpjIm20rWz",
        "outputId": "cf84767c-8dbe-42c0-9d42-5b57f2f23fa7"
      },
      "execution_count": 54,
      "outputs": [
        {
          "output_type": "stream",
          "name": "stdout",
          "text": [
            "Number of customers who returned their credit cards due to exceeded payment in the past five years: 0\n"
          ]
        }
      ]
    },
    {
      "cell_type": "markdown",
      "source": [
        "X- - - - - - **QUESTION 2 ENDS HERE** - - - - - -X"
      ],
      "metadata": {
        "id": "pLbM6esA07XA"
      }
    },
    {
      "cell_type": "markdown",
      "source": [
        "**QUESTION 3: How many customers can hand over their credit cards in the coming year to the bank?**"
      ],
      "metadata": {
        "id": "Kb0k0g5H1hhg"
      }
    },
    {
      "cell_type": "code",
      "source": [
        "df = pd.read_excel('Data.xlsx')"
      ],
      "metadata": {
        "id": "TvmOzeiK1zrN"
      },
      "execution_count": 58,
      "outputs": []
    },
    {
      "cell_type": "code",
      "source": [
        "# Assuming your DataFrame is named df\n",
        "current_year = datetime.datetime.now().year\n",
        "coming_year = current_year + 1\n",
        "\n",
        "# Convert \"Expiration Date\" column to datetime\n",
        "df['Expiration Date'] = pd.to_datetime(df['Expiration Date'])\n",
        "\n",
        "# Filter customers whose credit cards expire in the coming year\n",
        "coming_year_customers = df[df['Expiration Date'].dt.year == coming_year]\n",
        "\n",
        "# Count the number of customers whose credit cards expire in the coming year\n",
        "num_coming_year_customers = len(coming_year_customers)\n",
        "\n",
        "print(\"Customers whose credit cards expire in the coming year:\")\n",
        "for _, customer in coming_year_customers.iterrows():\n",
        "    print(customer['Cardholder Name'])\n",
        "\n",
        "print(\"Number of customers whose credit cards expire in the coming year:\", num_coming_year_customers)"
      ],
      "metadata": {
        "colab": {
          "base_uri": "https://localhost:8080/",
          "height": 0
        },
        "id": "QQZ8zvNk1EWH",
        "outputId": "b4fa8370-eee9-4332-ff22-d1c814651a59"
      },
      "execution_count": 66,
      "outputs": [
        {
          "output_type": "stream",
          "name": "stdout",
          "text": [
            "Customers whose credit cards expire in the coming year:\n",
            "Alexander Anderson\n",
            "Andrew Phillips\n",
            "Ava Anderson\n",
            "Avery Roberts\n",
            "Benjamin Lee\n",
            "Daniel Hill\n",
            "Harper Johnson\n",
            "Jacob Hill\n",
            "John Smith\n",
            "Logan Brooks\n",
            "Natalie Turner\n",
            "Scarlett Thompson\n",
            "Number of customers whose credit cards expire in the coming year: 12\n"
          ]
        }
      ]
    },
    {
      "cell_type": "markdown",
      "source": [
        "X- - - - -  **ASSIGNMENT ENDS HERE ** - - - - -X "
      ],
      "metadata": {
        "id": "DIMLXcDk3I7g"
      }
    },
    {
      "cell_type": "markdown",
      "source": [
        "THANK YOU MAAM, Please add a tick mark ✅ like this to give your acceprtance.\n",
        "\n",
        "\n",
        "#MAAM'S REMARKS:\n",
        "\n"
      ],
      "metadata": {
        "id": "UEzQT2w54Bfp"
      }
    }
  ]
}